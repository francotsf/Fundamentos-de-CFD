{
 "cells": [
  {
   "cell_type": "markdown",
   "metadata": {},
   "source": [
    "##### Contenido bajo Creative Commons Attribution license CC-BY 4.0. (c) 2015 O. Skurtys, C. Cooper."
   ]
  },
  {
   "cell_type": "markdown",
   "metadata": {},
   "source": [
    "## Metodo de Euler implicito"
   ]
  },
  {
   "cell_type": "markdown",
   "metadata": {},
   "source": [
    "Ya vimos en el notebook anterior que existen límites en el valor de $\\Delta t$ para cumplir con la estabilidad. En este caso, el valor de $\\alpha$ era bajo, por lo que se cumplía con la estabilidad para valores relativamente alto de $\\Delta t$, sin embargo, si $\\alpha$ hubiese sido más grande, podría haber ocurrido que el valor de $\\Delta t$ tendría que haber sido muy pequeño para cumplir con la estabilidad, y necesitaríamos muchos pasos de tiempo para llegar al resultado final.\n",
    "\n",
    "Por otra parte, sabemos que los métodos implícitos no tienen esta limitación, por lo que podemos llegar al resultado final en menos pasos de tiempo. Revisemos el método de Euler implícito en detalle.\n",
    "\n",
    "Cuando decimos que el método de Euler es *explícito*, nos referimos a que la función a la derecha de la ecuación es evaluada en el tiempo $t_n$, por lo que es trivial despejar el valor de la función en $t_{n+1}$. El caso *implícito* es lo contrario: la función es evaluada en el tiempo $t_{n+1}$. De esta forma, al discretizar en el tiempo, quedamos con la siguiente ecuación\n",
    "\n",
    "\\begin{equation}\n",
    "\\left\\{\n",
    "\\begin{array}{l}\n",
    "y_{0} \\qquad dado\\\\\n",
    "y_{n+1} = y_n + \\Delta t  f\\left(y_{n+1}, t_{n+1}\\right) \\qquad \\forall n \\geq 0\n",
    "\\end{array}\n",
    "\\right.\n",
    "\\end{equation}\n",
    "\n",
    "¡Vemos que para calcular $y_{n+1}$ debemos conocer $y_{n+1}$! Si la función $f(y,,t)$ es no lineal, despejar $y_{n+1}$ deja de ser trivial, y quedamos con una ecuación implícita. \n",
    "\n",
    "## Euler implícito en caída libre \n",
    "\n",
    "Veamos el caso no lineal del notebook anterior (la caída libre de Luke Aikins). Discretizando la ecuación para la velocidad, quedamos con\n",
    "\n",
    "\\begin{equation}\n",
    "v_{n+1} = v_{n} + \\Delta t\\left(-\\frac{\\alpha}{m} v_{n+1}^2 + g\\right),\n",
    "\\end{equation}\n",
    "\n",
    "y despejando lo desconocido a la izquierda y lo conocido a la derecha, quedamos con\n",
    "\n",
    "\\begin{equation}\n",
    "v_{n+1} + \\frac{\\Delta t \\alpha}{m} v_{n+1}^2  = v_n + \\Delta t g \n",
    "\\end{equation}\n",
    "\n",
    "Esta es una ecuación de segundo orden, que todavía debiésemos ser capaces de resolver explícitamente, sin embargo, en el caso general, puede que no seamos capaces de depejar $v_{n+1}$. Afortunadamente, existen algoritmos para calcular las raíces de una ecuación numéricamente disponibles en Python (algo así como cuando escriben `solve` en la TI o en [Wolfram Alpha](https://www.wolframalpha.com/)), y así obtener el valor de $v_{n+1}$. Por lo tanto, tendrán que hacer un `solve` en cada paso de tiempo.\n",
    "\n",
    "Un ejemplo de esto es la función [`fsolve`](http://docs.scipy.org/doc/scipy-0.14.0/reference/generated/scipy.optimize.fsolve.html), que se encuentra en la librería `scipy`:"
   ]
  },
  {
   "cell_type": "code",
   "execution_count": 1,
   "metadata": {
    "collapsed": true
   },
   "outputs": [],
   "source": [
    "from scipy.optimize import fsolve"
   ]
  },
  {
   "cell_type": "markdown",
   "metadata": {},
   "source": [
    "La función `fsolve` encuentra las raíces de una ecuación de tipo $f(x) = 0$. Usemos un ejemplo cuadrático (igual al que necesitarán para el caso de Luke Aikins); para definir $f(x)$, podemos hacer"
   ]
  },
  {
   "cell_type": "code",
   "execution_count": 2,
   "metadata": {
    "collapsed": true
   },
   "outputs": [],
   "source": [
    "def f(x, a, b, c):\n",
    "    return a*x**2+b*x+c"
   ]
  },
  {
   "cell_type": "markdown",
   "metadata": {},
   "source": [
    "Resolvamos la ecuación $2x^2+ 3x-4=0$:"
   ]
  },
  {
   "cell_type": "code",
   "execution_count": 4,
   "metadata": {},
   "outputs": [
    {
     "name": "stdout",
     "output_type": "stream",
     "text": [
      "[ 0.85078106]\n"
     ]
    }
   ],
   "source": [
    "x0 = 0\n",
    "a=2\n",
    "b=3\n",
    "c=-4\n",
    "x_root = fsolve(f,x0,args=(a,b,c))\n",
    "print (x_root)"
   ]
  },
  {
   "cell_type": "markdown",
   "metadata": {},
   "source": [
    "Donde `x0` es una estimación del resultado final (el valor con que el método iterativo comienza a buscar la raíz). Si estamos bien, $f(x_{root})=0$; probemos:"
   ]
  },
  {
   "cell_type": "code",
   "execution_count": 6,
   "metadata": {},
   "outputs": [
    {
     "name": "stdout",
     "output_type": "stream",
     "text": [
      "[  2.04281037e-14]\n"
     ]
    }
   ],
   "source": [
    "print (f(x_root,a,b,c))"
   ]
  },
  {
   "cell_type": "markdown",
   "metadata": {},
   "source": [
    "## A resolver!\n",
    "\n",
    "Resuelvan el mismo problema del notebook anterior, usando un método de Euler implícito. Ayúdense de la función `scipy.optimize.fsolve` para resolver la ecuación no lineal en cada paso de tiempo. Es más, pueden usar la función `f(x,a,b,c)` definida arriba ¿pueden ustedes la ecuación discretizada con Euler implícito de la forma $ax^2+bx+c$?\n",
    "\n",
    "Ojo que la discretización de la ecuación para la altura también debe ser implícita!\n",
    "\n",
    "Grafiquen la velocidad y altura respecto del tiempo, y prueben valores altos de $\\Delta t$ (incluso $\\Delta t>8$!) ¿Ven resultados similares que en el caso explícito? ¿Por qué? ¿Qué opinen de la exactitud de los resultados usando $\\Delta t$ alto?\n",
    "\n",
    "#### Para pensar\n",
    "* Si usáramos el modelo lineal descrito al principio del notebook anterior, ¿necesitaríamos `fsolve`? ¿Por qué?\n",
    "* Vemos que todo se reduce a resolver una ecuación cuadrática en cada paso de tiempo ¿Podríamos despejar $v_{n+1}$ de alguna manera? No es necesario que lo implemente."
   ]
  },
  {
   "cell_type": "code",
   "execution_count": 19,
   "metadata": {},
   "outputs": [],
   "source": [
    "import numpy \n",
    "import matplotlib.pyplot as plt\n",
    "%matplotlib inline\n",
    "### ALUMNO\n",
    "def velo(v2,alpha,v1,dt,m):\n",
    "    return v2+dt*alpha*v2**2/m-v1-dt*9.81\n",
    "\n",
    "def caida_libre_implicito(v0, h0, dt, tf, alpha, m):\n",
    "    t = numpy.arange(0,tf,dt)\n",
    "    vel = numpy.zeros(len(t))\n",
    "    alt = numpy.zeros(len(t))\n",
    "    vel[0] = v0\n",
    "    alt[0] = h0\n",
    "    for i in range(len(t)-1):\n",
    "        t[i+1] = t[i] + dt\n",
    "        v1 = vel[i]\n",
    "        vel[i+1] = fsolve(velo,vel[i],args=(alpha,v1,dt,m))\n",
    "        alt[i+1] = alt[i] + dt*v[i+1]\n",
    "    return vel,alt,t\n",
    "# Hacer funcion para integrar velocidad y altura con Euler implicito.\n",
    "# Pueden copiar y pegar lo del notebook anterior como para partir!\n",
    "###"
   ]
  },
  {
   "cell_type": "code",
   "execution_count": 23,
   "metadata": {},
   "outputs": [
    {
     "data": {
      "image/png": "[encoded data removed]",
      "text/plain": [
       "<matplotlib.figure.Figure at 0x8f67a0b470>"
      ]
     },
     "metadata": {},
     "output_type": "display_data"
    },
    {
     "data": {
      "image/png": "[encoded data removed]",
      "text/plain": [
       "<matplotlib.figure.Figure at 0x8f63e70390>"
      ]
     },
     "metadata": {},
     "output_type": "display_data"
    }
   ],
   "source": [
    "v0 = 0.\n",
    "h0 = 8000.\n",
    "tf = 150.\n",
    "dt = 15\n",
    "alpha = 0.27\n",
    "m = 80\n",
    "v,h,time = caida_libre_implicito(v0, h0, dt, tf, alpha, m)\n",
    "\n",
    "plt.plot(time, v, c='k') \n",
    "plt.ylabel(\"velocidad\")\n",
    "plt.xlabel(\"tiempo\")\n",
    "plt.show()\n",
    "plt.clf()\n",
    "plt.plot(time, h, c='k') \n",
    "plt.ylabel(\"altura\")\n",
    "plt.xlabel(\"tiempo\")\n",
    "plt.show()"
   ]
  },
  {
   "cell_type": "markdown",
   "metadata": {},
   "source": [
    "## Metodo del trapecio"
   ]
  },
  {
   "cell_type": "markdown",
   "metadata": {},
   "source": [
    "El metodo del trapecio es un metodo de orden 2 y está definido por la formula siguiente:\n",
    "\n",
    "\\begin{equation}\n",
    "\\left\\{\n",
    "\\begin{array}{l}\n",
    "y_{0} \\qquad dado\\\\\n",
    "y_{n+1} = y_n + dt  \\frac{f\\left(y_{n+1}\\right) + f\\left(y_{n}\\right)}{2} \\qquad \\forall n \\geq 0\n",
    "\\end{array}\n",
    "\\right.\n",
    "\\end{equation}\n",
    "\n",
    "Resuelva el mismo problema usando el método del trapecio. Siga los siguientes pasos:\n",
    "* Escriba la ecuación discretizada con el método del trapecio\n",
    "* Reescriba esta ecuación en forma $ax^2+bx+c$\n",
    "* Resuélvala de forma similar a como resolvió el caso de Euler implícito\n",
    "* Grafique los resultados\n",
    "\n",
    "#### Para pensar\n",
    "\n",
    "* ¿Qué ventaja tiene que este método sea de segundo orden? \n",
    "* Computacionalmente es casi igual de pesado que Euler implícito. Si tuviesen que elegir, ¿preferirían Euler implícito o el trapecio?\n"
   ]
  },
  {
   "cell_type": "code",
   "execution_count": 24,
   "metadata": {},
   "outputs": [],
   "source": [
    "### ALUMNO\n",
    "def f(v,alpha,m):\n",
    "    return -alpha*v/m+9.81\n",
    "\n",
    "def caida_libre_trapecio(v0, h0, dt, tf, alpha, m):\n",
    "    t = numpy.arange(0,tf,dt)\n",
    "    vel = numpy.zeros(len(t))\n",
    "    alt = numpy.zeros(len(t))\n",
    "    vel[0] = v0\n",
    "    alt[0] = h0\n",
    "    for i in range(len(t)-1):\n",
    "        t[i+1] = t[i] + dt\n",
    "        v1 = vel[i]\n",
    "        vel[i+1] = fsolve(velo,vel[i],args=(alpha,v1,dt,m))\n",
    "        vel[i+1] = vel[i] + dt*(f(v[i+1])+f(v[i]))/2     #recalculando con metodo trapecio\n",
    "        h1 = alt[i]\n",
    "        v2 = vel[i+1]\n",
    "        alt[i+1] = alt[i] + dt*v[i+1]\n",
    "        alt[i+1] = alt[i] + dt*(vel[i+1]+vel[i])/2\n",
    "    return vel,alt,t\n",
    "# Hagan funcion para resolver con el metodo del trapecio\n",
    "# OJO: MUY parecido a Euler implicito. Copien y peguen eso aca para partir.\n",
    "###"
   ]
  },
  {
   "cell_type": "code",
   "execution_count": 31,
   "metadata": {},
   "outputs": [
    {
     "data": {
      "image/png": "[encoded data removed]",
      "text/plain": [
       "<matplotlib.figure.Figure at 0x8f683f2ac8>"
      ]
     },
     "metadata": {},
     "output_type": "display_data"
    },
    {
     "data": {
      "image/png": "[encoded data removed]",
      "text/plain": [
       "<matplotlib.figure.Figure at 0x8f68227eb8>"
      ]
     },
     "metadata": {},
     "output_type": "display_data"
    }
   ],
   "source": [
    "v0 = 0.\n",
    "h0 = 8000.\n",
    "tf = 150.\n",
    "dt = 30\n",
    "alpha = 0.27\n",
    "m = 80\n",
    "v,h,time = caida_libre_implicito(v0, h0, dt, tf, alpha, m)\n",
    "\n",
    "plt.plot(time, v, c='k') \n",
    "plt.ylabel(\"velocidad\")\n",
    "plt.xlabel(\"tiempo\")\n",
    "plt.show()\n",
    "plt.clf()\n",
    "plt.plot(time, h, c='k') \n",
    "plt.ylabel(\"altura\")\n",
    "plt.xlabel(\"tiempo\")\n",
    "plt.show()"
   ]
  },
  {
   "cell_type": "code",
   "execution_count": null,
   "metadata": {
    "collapsed": true
   },
   "outputs": [],
   "source": []
  }
 ],
 "metadata": {
  "kernelspec": {
   "display_name": "Python 3",
   "language": "python",
   "name": "python3"
  },
  "language_info": {
   "codemirror_mode": {
    "name": "ipython",
    "version": 3
   },
   "file_extension": ".py",
   "mimetype": "text/x-python",
   "name": "python",
   "nbconvert_exporter": "python",
   "pygments_lexer": "ipython3",
   "version": "3.6.1"
  }
 },
 "nbformat": 4,
 "nbformat_minor": 1
}
