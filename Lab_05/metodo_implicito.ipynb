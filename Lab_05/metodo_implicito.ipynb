{
 "cells": [
  {
   "cell_type": "markdown",
   "metadata": {},
   "source": [
    "##### Contenido bajo licencia CC-BY 4.0, código bajo licencia MIT. (c) 2015 C Cooper. Basado en [numerical-MOOC](https://github.com/numerical-mooc/numerical-mooc), CC-BY 4.0 2014 L Barba"
   ]
  },
  {
   "cell_type": "markdown",
   "metadata": {},
   "source": [
    "# Laboratorio 5: métodos implícitos\n",
    "\n",
    "¡Ya estamos en el quinto laboratorio! El curso partió revisando conceptos básicos de discretización de derivadas, para pasar a ecuaciones diferenciales ordinarias y después a ecuaciones diferenciales parciales. Eso si, en todos los laboratorios hemos usado la misma forma de discretizar el tiempo, usando diferencias atrasadas, y eso cambiará hoy. Algo de esto vimos en el laboratorio 3 (sobre ecuaciones diferenciales ordinarias), pero hoy profundizaremos aún más.\n",
    "\n",
    "## Teoría\n",
    "\n",
    "### Método explícito\n",
    "Usemos la ecuación de difusión en una dimensión para guiar la discusión:\n",
    "\n",
    "\\begin{equation}\n",
    "\\frac{\\partial T}{\\partial t} = \\alpha \\frac{\\partial^2 T}{\\partial x^2}.\n",
    "\\end{equation}\n",
    "\n",
    "¿Por qué usamos $T$ y $\\alpha$? La ecuación de difusión modela la conducción de calor, donde $T$ es la temperatura y $\\alpha=\\kappa/\\rho c_p$ el coeficiente de [difusividad térmica](https://es.wikipedia.org/wiki/Difusividad_t%C3%A9rmica).\n",
    "\n",
    "En el laboratorio 4 discretizamos la ecuación de difusión con diferencias atrasadas en tiempo y centradas en el espacio, lo que nos dió:\n",
    "\n",
    "\\begin{equation}\n",
    "\\frac{T_{i}^{n+1} - T_i^n}{\\Delta t} - \\alpha \\frac{T_{i+1}^{n} - 2T_i^n + T_{i-1}^{n}}{(\\Delta x)²} = 0.\n",
    "\\end{equation}\n",
    "\n",
    "La gracia de usar diferencia atrasada es que para obtener el valor de $T^{n+1}_i$ usamos solamente variables del paso de tiempo anterior, que es conocido. Pongamos lo que no conocemos al lado izquierdo y lo conocido al lado derecho:\n",
    "\n",
    "\\begin{equation}\n",
    "T_{i}^{n+1} = T_i^n + \\frac{\\alpha \\Delta t}{(\\Delta x)²} \\left(T_{i+1}^{n} - 2T_i^n + T_{i-1}^{n}\\right),\n",
    "\\end{equation}\n",
    "\n",
    "así, llegamos a una ecuación explícita, fácil de resolver. La diferencia atrasada en el tiempo es equivalente a decir que estamos usando el método de Euler explícito que vimos en el laboratorio 3.\n",
    "\n",
    "Una representación gráfica de esto es:\n",
    "\n",
    "<img src=\"stencil_explicito.png\"width=\"300px\">\n",
    "\n",
    "Vimos en el laboratorio 4 que esta discretización tiene una restricción de estabilidad muy estricta, que era:\n",
    "\n",
    "\\begin{equation}\n",
    "\\frac{\\alpha \\Delta t}{(\\Delta x)²} < \\frac{1}{2}\n",
    "\\end{equation}\n",
    "\n",
    "y nos obligaba a usar pasos de tiempo ridículamente pequeños.  "
   ]
  },
  {
   "cell_type": "markdown",
   "metadata": {},
   "source": [
    "### Método implícito\n",
    "El laboratorio 3 esbozó una solución a esto. Vimos que la integración con Euler usando los valores del tiempo $n+1$ en la función $f(t_{n+1},y(t_{n+1}))$ era incondicionalmente estable. Esto es equivalente a usar diferencias adelantadas en el tiempo, lo que nos deja:\n",
    "\n",
    "\\begin{equation}\n",
    "\\frac{T_{i}^{n+1} - T_i^n}{\\Delta t} - \\alpha \\frac{T_{i+1}^{n+1} - 2T_i^{n+1} + T_{i-1}^{n+1}}{(\\Delta x)²} = 0.\n",
    "\\end{equation}\n",
    "\n",
    "Hasta ahora, todo bien. No es más que usar Euler implícito en el tiempo.\n",
    "\n",
    "Pongamos lo que no conocemos a la izquierda y lo que conocemos a la derecha:\n",
    "\n",
    "\\begin{equation}\n",
    "-T_{i+1}^{n+1} + \\left( 2+ \\frac{(\\Delta x)²}{\\alpha \\Delta t} \\right) T_{i}^{n+1} - T_{i-1}^{n+1} = \\frac{(\\Delta x)²}{\\alpha \\Delta t}T_i^n\n",
    "\\end{equation}\n",
    "\n",
    "y aquí se hace evidente que tenemos un problema: una ecuación, tres incógnitas. Gráficamente, esto se puede visualizar así:\n",
    "\n",
    "<img src=\"stencil_implicito.png\"width=\"300px\">\n",
    "\n",
    "Digamos que tenemos una malla con $N$ puntos en el espacio que va desde $i=0$ hasta $i=N-1$, con una condición de borde de Dirichlet a la izquierda ($T_0^{n}$ conocido para todo $n$) y una de Neumann a la derecha ($\\partial T_{N-1}^{n}/\\partial x$ conocido para todo $n$). $T_0^{n+1}$ es conocido, pero ¿cómo se ve la ecuación para $T_1^{n+1}$?\n",
    "\n",
    "\\begin{equation}-T_{0}^{n+1} + \\left( 2 + \\frac{\\Delta x^2}{\\alpha\\Delta t}\\right) T_{1}^{n+1}  - T_{2}^{n+1} = T_{1}^{n}\\frac{\\Delta x^2}{\\alpha\\Delta t} \\end{equation}\n",
    "\n",
    "¿y para $T_2^{n+1}$?\n",
    "\n",
    "\\begin{equation}-T_{1}^{n+1} + \\left( 2 + \\frac{\\Delta x^2}{\\alpha\\Delta t}\\right) T_{2}^{n+1} - T_{3}^{n+1} = T_{2}^{n}\\frac{\\Delta x^2}{\\alpha\\Delta t} \\end{equation}\n",
    "\n",
    "¿y $T_3^{n+1}$?\n",
    "\n",
    "\\begin{equation}-T_{2}^{n+1} + \\left( 2 + \\frac{\\Delta x^2}{\\alpha\\Delta t}\\right) T_{3}^{n+1} - T_{4}^{n+1} = T_{3}^{n}\\frac{\\Delta x^2}{\\alpha\\Delta t} \\end{equation}\n",
    "\n",
    "ven el patrón, ¿cierto? Se repite $T_2^{n+1}$ en los tres casos: si aplicamos la ecuación para cada punto de la malla, tendremos el mismo número de ecuaciones e incógnitas."
   ]
  },
  {
   "cell_type": "markdown",
   "metadata": {},
   "source": [
    "### Condiciones de borde\n",
    "Como en los puntos en $i=0$ e $i=N-1$ se enfuerzan las condiciones de borde, no es necesario aplicar la ecuación en ellos. ¿Qué hacemos entonces?\n",
    "\n",
    "#### Condición de borde de Dirichlet\n",
    "El caso $i=0$ es una condición de borde de Dirichlet, por lo tanto, el término $T_{0}^{n+1}$ en la ecuación para $T_1^{n+1}$ es conocido y puede pasar al lado derecho de la ecuación:\n",
    "\n",
    "\\begin{equation} - \\left( 2 + \\frac{\\Delta x^2}{\\alpha\\Delta t}\\right) T_{1}^{n+1} +  T_{2}^{n+1} = -T_{1}^{n}\\frac{\\Delta x^2}{\\alpha\\Delta t} - T_{0}^{n+1} \\end{equation}\n",
    "\n",
    "#### Condición de borde de Neumann\n",
    "En $i=N-1$ hay una condición de borde de Neumann y es algo más difícil. Este punto aparece en la ecuación para $i=N-2$, que es:\n",
    "\n",
    "\\begin{equation} -T_{N-3}^{n+1} + \\left( 2 + \\frac{\\Delta x^2}{\\alpha\\Delta t}\\right) T_{N-2}^{n+1} - T_{N-1}^{n+1} = T_{N-2}^{n}\\frac{\\Delta x^2}{\\alpha\\Delta t} \\end{equation}\n",
    "\n",
    "Digamos que la condición de borde es que hay una entrada de calor en $x=L$:\n",
    "\n",
    "\\begin{equation}\n",
    "\\left. \\frac{\\partial T}{\\partial x} \\right|_{x=L} = q\n",
    "\\end{equation}\n",
    "\n",
    "La forma más fácil de tratar con la condición de borde de Neumann es discretizar con diferencias finitas: \n",
    "\n",
    "\\begin{equation}\\frac{T^{n+1}_{N-1} - T^{n+1}_{N-2}}{\\Delta x} = q.\\end{equation}\n",
    "\n",
    "y reemplazar en la ecuación anterior:\n",
    "\n",
    "\\begin{equation} - T_{N-3}^{n+1} + \\left( 1 + \\frac{\\Delta x^2}{\\alpha\\Delta t}\\right) T_{N-2}^{n+1} = T_{N-2}^{n}\\frac{\\Delta x^2}{\\alpha\\Delta t} + \\Delta x q \\end{equation}\n",
    "\n",
    "¿Cuál es el problema? Hasta ahora, la discretización en el espacio era de segundo orden. Con esto, estamos agregando un error de primer orden. Existen maneras más sofisticadas de enforzar la condición de borde de Neumann sin perder el orden de convergencia, pero eso es materia para un curso más avanzado."
   ]
  },
  {
   "cell_type": "markdown",
   "metadata": {},
   "source": [
    "### Generación de la matriz\n",
    "Si aplicamos la ecuación discretizada en cada punto, llegamos a un sistema de ecuaciones del tipo\n",
    "\n",
    "\\begin{align}\\left[ \\begin{array}{cccccc}\n",
    " \\left(2 + \\frac{1}{\\sigma}\\right) & -1 & 0 & \\cdots & & 0 \\\\\n",
    " -1 & \\left(2 + \\frac{1}{\\sigma}\\right) & -1 & 0 & \\cdots & 0 \\\\\n",
    " 0 & & \\ddots& & & \\vdots \\\\\n",
    " \\vdots & & & & \\left(2 + \\frac{1}{\\sigma}\\right)& \\\\\n",
    " 0 & \\cdots & & & -1 & \\left(1 + \\frac{1}{\\sigma}\\right) \\end{array} \\right]\n",
    " \\cdot \n",
    " \\left[ \\begin{array}{c} \n",
    " T_1^{n+1} \\\\ T_2^{n+1} \\\\ \\vdots \\\\ \\\\ T_{N-2}^{n+1} \\end{array} \\right]\n",
    " =\n",
    " \\left[ \\begin{array}{c} \n",
    "T_1^n \\frac{1}{\\sigma} \\\\ T_2^{n}\\frac{1}{\\sigma} \\\\ \\vdots \\\\ \\\\ T_{N-2}^{n}\\frac{1}{\\sigma} \\end{array} \\right]\n",
    " +\n",
    " \\begin{bmatrix}\n",
    "  T_0^{n+1}\\\\\n",
    "  0\\\\\n",
    "  \\vdots\\\\\n",
    "  0\\\\\n",
    "  q\\Delta x\n",
    " \\end{bmatrix}\n",
    " \\end{align} \n",
    " \n",
    " donde $\\sigma = \\frac{\\alpha\\Delta t}{\\Delta x^2}$. Fíjense que las condiciones de borde solamente afectan el lado derecho del sistema lineal en los puntos $i=1$ (primera fila) e $i=N-2$ (última fila).\n",
    " \n",
    "No se confundan: hay $N$ puntos de discretización, pero dos de ellos son condiciones de borde, por lo tanto, la dimensión de la matriz es $N-2\\times N-2$.\n",
    "\n",
    "Para resolver la ecuación numéricamente con un método implícito tenemos que encontrar la solución de un sistema lineal en cada paso de tiempo, donde la matriz es siempre la misma, pero el lado derecho de la ecuación va cambiando. Esto es mucho más lento que simplemente calcular $T_i^{n+1}$ en el caso explícito, pero nos permite usar pasos de tiempo muchísimo mayores ¿qué es mejor? depende del caso.\n"
   ]
  },
  {
   "cell_type": "markdown",
   "metadata": {},
   "source": [
    "## Ejemplo\n",
    "\n",
    "Tenemos una barra de grafito $(\\alpha=1.22\\cdot 10^{-3}\\rm m^2/s)$ de $1\\rm m$ de largo. Inicialmente está a $0^\\circ \\rm C$, y al tiempo $t=0$ subimos la temperatura al lado izquierdo a $100^\\circ \\rm C$. Al lado derecho esta aislado por lo que no fluye calor $(q=0)$ ¿Cómo evoluciona la temperatura en la barra?\n",
    "\n",
    "Con una malla de $N=51$ puntos, grafiquen la temperatura en la barra luego de 100 pasos de tiempo.\n",
    "\n",
    "Primero, resolveremos este problema con un método explícito, luego ustedes lo harán con el método implícito.\n",
    "\n",
    "### Euler explícito\n",
    "\n",
    "Para empezar, importemos las librerías necesarias y definamos la malla"
   ]
  },
  {
   "cell_type": "code",
   "execution_count": 1,
   "metadata": {},
   "outputs": [],
   "source": [
    "import numpy\n",
    "import matplotlib.pyplot as plt\n",
    "%matplotlib inline\n",
    "plt.rcParams['font.family'] = 'serif'\n",
    "plt.rcParams['font.size'] = 12\n",
    "\n",
    "L = 1.\n",
    "nt = 100\n",
    "nx = 51\n",
    "alpha = 1.22e-3\n",
    "\n",
    "dx = L/(nx-1)\n",
    "\n",
    "x  = numpy.linspace(0, 1, nx)\n",
    "Ti = numpy.zeros(nx)\n",
    "Ti[0] = 100"
   ]
  },
  {
   "cell_type": "markdown",
   "metadata": {},
   "source": [
    "Generen una función que resuelva el problema usando un método explícito de primer orden en el tiempo y segundo orden en el espacio (ver laboratorio 4). Sabemos que el método es inestable para $\\sigma = \\Delta t \\alpha/(\\Delta x)^2 > 0.5$. Para evitar problemas, vamos a definir $\\Delta t$ en función de $\\sigma$.\n",
    "\n",
    "Para enforzar las condiciones de borde, utilicen la aproximación de primer orden $\\frac{T_{N-1}-T_{N-2}}{\\Delta x} = 0$."
   ]
  },
  {
   "cell_type": "code",
   "execution_count": 2,
   "metadata": {},
   "outputs": [
    {
     "name": "stdout",
     "output_type": "stream",
     "text": [
      "El paso de tiempo es 0.1639\n"
     ]
    },
    {
     "data": {
      "image/png": "[encoded data removed]",
      "text/plain": [
       "<matplotlib.figure.Figure at 0x1d14338358>"
      ]
     },
     "metadata": {},
     "output_type": "display_data"
    }
   ],
   "source": [
    "### ALUMNO\n",
    "def euler_explicito(T, nt, dt, dx, alpha):\n",
    "    for n in range(1,nt):\n",
    "        Tn = T.copy()\n",
    "        for i in range(1,len(T)):\n",
    "            if i==len(T)-1:\n",
    "                T[i] = T[i-1]\n",
    "            else:\n",
    "                T[i] = Tn[i] + alpha*dt/dx**2 * (Tn[i+1] - 2*Tn[i] + Tn[i-1])\n",
    "    return T\n",
    "# escriba función para euler explícito\n",
    "### \n",
    "\n",
    "sigma = 0.5\n",
    "dt    = sigma*dx**2/alpha\n",
    "\n",
    "print ('El paso de tiempo es %1.4f'%dt)\n",
    "\n",
    "T = Ti.copy()\n",
    "T = euler_explicito(T, nt, dt, dx, alpha)\n",
    "plt.plot(x, T, color='k', lw=2)\n",
    "plt.title('Temperatura en t=%1.3f'%(nt*dt))\n",
    "plt.ylabel(r'Temperatura ($^\\circ$C)')\n",
    "plt.xlabel('x (m)');"
   ]
  },
  {
   "cell_type": "markdown",
   "metadata": {},
   "source": [
    "Prueben con $\\sigma = 0.6$. Ya saben lo que va a pasar ¿cierto?\n",
    "\n",
    "### Euler implícito\n",
    "\n",
    "Vamos a resolver el mismo problema usando Euler implícito. En este caso, tenemos que resolver un sistema lineal en cada paso de tiempo ¿Cómo podemos resolver el sistema lineal?\n",
    "\n",
    "Aquí es donde usar lenguajes como Python se hace muy útil: existen librerías que resuelven sistemas lineales `Ax=b` dada una matriz `A` y un vector `b`. La más conocida es `scipy`, pero no es la única. Por ejemplo `scipy.linalg.solve(A, b)` encuentra el vector `x` para `Ax=b`.    \n",
    "\n",
    "Generemos una función que haga el paso de tiempo de Euler implícito:"
   ]
  },
  {
   "cell_type": "code",
   "execution_count": 3,
   "metadata": {
    "collapsed": true
   },
   "outputs": [],
   "source": [
    "from scipy.linalg import solve\n",
    "def euler_implicito(T, A, nt, sigma):\n",
    "    \n",
    "    for t in range(nt):\n",
    "        Tn = T.copy()\n",
    "        b = lado_derecho(Tn, sigma)\n",
    "\n",
    "        T_interior = solve(A,b)\n",
    "        T[1:-1] = T_interior\n",
    "        T[0]  = 100   # Dirichlet BC\n",
    "        T[-1] = T[-2] # Neumann BC\n",
    "\n",
    "    return T"
   ]
  },
  {
   "cell_type": "markdown",
   "metadata": {},
   "source": [
    "Fíjense que el resultado del sistema lineal es `T_interior`. Éste es un arreglo con las temperaturas al interior del dominio, sin considerar los bordes. Por lo tanto, `T_interior` tendrá $N-2$ elementos, mientras que `T` dentrá $N$ elementos.\n",
    "\n",
    "#### Es el turno de ustedes\n",
    "Como ven en la función `euler_implicito`, la matriz `A` es un dato de entrada, y debemos generar el lado derecho de la ecuación en cada paso de tiempo. La tarea de este laboratorio es generar una función que genere la matriz `A` y otra función llamada `lado_derecho` que calcule el lado derecho de la ecuación en cada paso de tiempo.\n",
    "\n",
    "Primero prueben con $\\sigma =0.5$, pero luego cambien a $\\sigma=2$ ¿Explota la solución?\n",
    "\n",
    "*Ayuda*: Python nos ofrece un sinnúmero de opciones para generar la matriz, pero una forma fácil es generar una matriz llena de zeros de tamaño $N-2\\times N-2$ con\n",
    "\n",
    "```Python\n",
    "nx = len(x)\n",
    "numpy.zeros((nx-2,nx-2))\n",
    "```\n",
    "\n",
    "y modificar las posiciones de la matriz que correspondan. "
   ]
  },
  {
   "cell_type": "code",
   "execution_count": 4,
   "metadata": {},
   "outputs": [],
   "source": [
    "###ALUMNO\n",
    "def generarMatriz(nx, sigma):\n",
    "    A = numpy.zeros((nx-2,nx-2))\n",
    "    A[0,0] = 2+1/sigma\n",
    "    A[0,1] = -1\n",
    "    A[nx-3,nx-3] = 1+1/sigma\n",
    "    A[nx-3,nx-4] = -1\n",
    "    for i in range(1,nx-3):\n",
    "        for j in range(1,nx-3):\n",
    "            if i==j:                \n",
    "                A[i,j] = 2+1/sigma\n",
    "                A[i,j-1] = -1\n",
    "                A[i,j+1] = -1\n",
    "    return A\n",
    "def lado_derecho(T, sigma):\n",
    "    b = numpy.zeros(nx-2)\n",
    "    b[0] = T[1]*1/sigma + 100\n",
    "    b[nx-3] = T[nx-2]*1/sigma + 0 \n",
    "    for i in range(1,len(b)-1):\n",
    "        b[i] = T[i+1]*1/sigma \n",
    "    return b\n",
    "#Hacer funciones para generar matriz, \n",
    "#calcular lado derecho. Calcule para\n",
    "#las condiciones dadas.\n",
    "###"
   ]
  },
  {
   "cell_type": "code",
   "execution_count": 5,
   "metadata": {},
   "outputs": [
    {
     "data": {
      "image/png": "[encoded data removed]",
      "text/plain": [
       "<matplotlib.figure.Figure at 0x1d17b8e198>"
      ]
     },
     "metadata": {},
     "output_type": "display_data"
    }
   ],
   "source": [
    "sigma = 0.5\n",
    "T = Ti.copy()\n",
    "A = generarMatriz(nx,sigma)\n",
    "T = euler_implicito(T, A, nt, sigma)\n",
    "plt.plot(x, T, color='k', lw=2)\n",
    "plt.title('Temperatura en t=%1.3f'%(nt*dt))\n",
    "plt.ylabel(r'Temperatura ($^\\circ$C)')\n",
    "plt.xlabel('x (m)');"
   ]
  },
  {
   "cell_type": "markdown",
   "metadata": {},
   "source": [
    "Si les resultó el programa (¡esperamos!), verán que pueden usar $\\sigma$ (y por ende $\\Delta t$) muchísimo mayores. Esto es conveniente ya que pueden llegar mucho más lejos en el tiempo, con menos pasos. Por supuesto, existe un límite a esto: al aumentar $\\Delta t$ la aproximación se hace cada vez menos exacta, y puede llegar al límite de que no capte cosas que están pasando físicamente a una escala de tiempo menor que $\\Delta t$.\n",
    "\n",
    "## Convergencia espacial\n",
    "El problema que resolvimos recién es suficientemente simple que tiene una solución analítica. Ésta es:\n",
    "\n",
    "\\begin{equation}\n",
    "T(x,t) = 100 - \\sum_{n=1}^{\\infty} \\frac{400}{(2n-1)\\pi}\\sin\\left(\\frac{(2n-1)\\pi}{2L}x\\right) \\exp\\left[-\\alpha\\left(\\frac{(2n-1)\\pi}{2L}\\right)^2t\\right]\n",
    "\\end{equation}\n",
    "\n",
    "y la siguiente función la calcula en los puntos `x` al tiempo `t`, usando `n_max` términos (en vez de $\\infty$):"
   ]
  },
  {
   "cell_type": "code",
   "execution_count": 6,
   "metadata": {
    "collapsed": true
   },
   "outputs": [],
   "source": [
    "from math import pi\n",
    "def T_analytical(x, t, alpha, L, n_max=100):\n",
    "\n",
    "    T = 100\n",
    "    for n in range(1,n_max+1):\n",
    "        k = (2*n-1)*pi/(2*L)\n",
    "        \n",
    "        summation = 400/((2*n-1)*pi) * numpy.sin(k*x) * numpy.exp(-alpha*k*k*t)\n",
    "        T -= summation\n",
    "\n",
    "    return T\n",
    "\n",
    "from math import sqrt\n",
    "def L2_error(f_ap, f_an):\n",
    "    num = numpy.zeros(len(f_ap))\n",
    "    den = numpy.zeros(len(f_an))\n",
    "    for i in range(len(num)):\n",
    "        num[i] = (f_ap[i] - f_an[i])**2\n",
    "        den[i] = f_an[i]**2   \n",
    "    return sqrt(numpy.sum(num)/numpy.sum(den))"
   ]
  },
  {
   "cell_type": "markdown",
   "metadata": {},
   "source": [
    "Usando $\\sigma = 1.22$, calculen el error L2 (laboratorio 2) de aproximación al tiempo $t=40$ con mallas de $N=26, 51, 101, 201$, y grafiquen error versus $\\Delta x$ usando *log-log* ¿Cuál es la convergencia espacial del método? ¿Es lo que esperaban? *Nota*: fíjense que necesitan diferente número de pasos de tiempo en cada caso.\n",
    "\n",
    "\n",
    "Repitan los cálculos al tiempo $t=400$. ¿Pasa algo con la convergencia? ¿Por qué? *Nota*: ¿Cuál es el orden de aproximación de la condición de contorno en el lado derecho?"
   ]
  },
  {
   "cell_type": "code",
   "execution_count": 7,
   "metadata": {},
   "outputs": [
    {
     "ename": "ValueError",
     "evalue": "could not broadcast input array from shape (24) into shape (49)",
     "output_type": "error",
     "traceback": [
      "\u001b[1;31m---------------------------------------------------------------------------\u001b[0m",
      "\u001b[1;31mValueError\u001b[0m                                Traceback (most recent call last)",
      "\u001b[1;32m<ipython-input-7-006be761f3d0>\u001b[0m in \u001b[0;36m<module>\u001b[1;34m()\u001b[0m\n\u001b[0;32m     13\u001b[0m     \u001b[0mnt\u001b[0m \u001b[1;33m=\u001b[0m \u001b[0mint\u001b[0m\u001b[1;33m(\u001b[0m\u001b[0mt\u001b[0m\u001b[1;33m/\u001b[0m\u001b[0mdt\u001b[0m\u001b[1;33m)\u001b[0m\u001b[1;33m\u001b[0m\u001b[0m\n\u001b[0;32m     14\u001b[0m     \u001b[0mA\u001b[0m \u001b[1;33m=\u001b[0m \u001b[0mgenerarMatriz\u001b[0m\u001b[1;33m(\u001b[0m\u001b[0mnx\u001b[0m\u001b[1;33m,\u001b[0m \u001b[0msigma\u001b[0m\u001b[1;33m)\u001b[0m\u001b[1;33m\u001b[0m\u001b[0m\n\u001b[1;32m---> 15\u001b[1;33m     \u001b[0merror\u001b[0m\u001b[1;33m[\u001b[0m\u001b[0mi\u001b[0m\u001b[1;33m]\u001b[0m \u001b[1;33m=\u001b[0m \u001b[0mL2_error\u001b[0m\u001b[1;33m(\u001b[0m\u001b[0meuler_implicito\u001b[0m\u001b[1;33m(\u001b[0m\u001b[0mT\u001b[0m\u001b[1;33m,\u001b[0m \u001b[0mA\u001b[0m\u001b[1;33m,\u001b[0m \u001b[0mnt\u001b[0m\u001b[1;33m,\u001b[0m \u001b[0msigma\u001b[0m\u001b[1;33m)\u001b[0m\u001b[1;33m,\u001b[0m\u001b[0mT_analytical\u001b[0m\u001b[1;33m(\u001b[0m\u001b[0mx\u001b[0m\u001b[1;33m,\u001b[0m \u001b[0mt\u001b[0m \u001b[1;33m,\u001b[0m\u001b[0malpha\u001b[0m\u001b[1;33m,\u001b[0m \u001b[0mL\u001b[0m\u001b[1;33m,\u001b[0m \u001b[0mn_max\u001b[0m\u001b[1;33m=\u001b[0m\u001b[1;36m100\u001b[0m\u001b[1;33m)\u001b[0m\u001b[1;33m)\u001b[0m\u001b[1;33m\u001b[0m\u001b[0m\n\u001b[0m\u001b[0;32m     16\u001b[0m \u001b[1;33m\u001b[0m\u001b[0m\n\u001b[0;32m     17\u001b[0m \u001b[0mpyplot\u001b[0m\u001b[1;33m.\u001b[0m\u001b[0mloglog\u001b[0m\u001b[1;33m(\u001b[0m\u001b[0mmallas\u001b[0m\u001b[1;33m,\u001b[0m\u001b[0merror\u001b[0m\u001b[1;33m,\u001b[0m\u001b[0mc\u001b[0m\u001b[1;33m=\u001b[0m\u001b[1;34m'k'\u001b[0m\u001b[1;33m,\u001b[0m \u001b[0mls\u001b[0m\u001b[1;33m=\u001b[0m\u001b[1;34m'-'\u001b[0m\u001b[1;33m,\u001b[0m \u001b[0mmarker\u001b[0m\u001b[1;33m=\u001b[0m\u001b[1;34m'x'\u001b[0m\u001b[1;33m)\u001b[0m\u001b[1;33m\u001b[0m\u001b[0m\n",
      "\u001b[1;32m<ipython-input-3-6269ac96742a>\u001b[0m in \u001b[0;36meuler_implicito\u001b[1;34m(T, A, nt, sigma)\u001b[0m\n\u001b[0;32m      7\u001b[0m \u001b[1;33m\u001b[0m\u001b[0m\n\u001b[0;32m      8\u001b[0m         \u001b[0mT_interior\u001b[0m \u001b[1;33m=\u001b[0m \u001b[0msolve\u001b[0m\u001b[1;33m(\u001b[0m\u001b[0mA\u001b[0m\u001b[1;33m,\u001b[0m\u001b[0mb\u001b[0m\u001b[1;33m)\u001b[0m\u001b[1;33m\u001b[0m\u001b[0m\n\u001b[1;32m----> 9\u001b[1;33m         \u001b[0mT\u001b[0m\u001b[1;33m[\u001b[0m\u001b[1;36m1\u001b[0m\u001b[1;33m:\u001b[0m\u001b[1;33m-\u001b[0m\u001b[1;36m1\u001b[0m\u001b[1;33m]\u001b[0m \u001b[1;33m=\u001b[0m \u001b[0mT_interior\u001b[0m\u001b[1;33m\u001b[0m\u001b[0m\n\u001b[0m\u001b[0;32m     10\u001b[0m         \u001b[0mT\u001b[0m\u001b[1;33m[\u001b[0m\u001b[1;36m0\u001b[0m\u001b[1;33m]\u001b[0m  \u001b[1;33m=\u001b[0m \u001b[1;36m100\u001b[0m   \u001b[1;31m# Dirichlet BC\u001b[0m\u001b[1;33m\u001b[0m\u001b[0m\n\u001b[0;32m     11\u001b[0m         \u001b[0mT\u001b[0m\u001b[1;33m[\u001b[0m\u001b[1;33m-\u001b[0m\u001b[1;36m1\u001b[0m\u001b[1;33m]\u001b[0m \u001b[1;33m=\u001b[0m \u001b[0mT\u001b[0m\u001b[1;33m[\u001b[0m\u001b[1;33m-\u001b[0m\u001b[1;36m2\u001b[0m\u001b[1;33m]\u001b[0m \u001b[1;31m# Neumann BC\u001b[0m\u001b[1;33m\u001b[0m\u001b[0m\n",
      "\u001b[1;31mValueError\u001b[0m: could not broadcast input array from shape (24) into shape (49)"
     ]
    }
   ],
   "source": [
    "### ALUMNO\n",
    "#Estudie la convergencia con las mallas indicadas\n",
    "###\n",
    "sigma = 1.22\n",
    "t = 40\n",
    "mallas = [26,51,101,201]\n",
    "error = numpy.zeros(len(mallas))\n",
    "for i in range(len(mallas)):\n",
    "    nx = mallas[i]\n",
    "    dx = L/(nx-1)\n",
    "    x  = numpy.linspace(0, 1, nx)\n",
    "    dt    = sigma*dx**2/alpha\n",
    "    nt = int(t/dt)\n",
    "    A = generarMatriz(nx, sigma)\n",
    "    error[i] = L2_error(euler_implicito(T, A, nt, sigma),T_analytical(x, t ,alpha, L, n_max=100))\n",
    "\n",
    "pyplot.loglog(mallas,error,c='k', ls='-', marker='x')\n",
    "    \n"
   ]
  },
  {
   "cell_type": "markdown",
   "metadata": {},
   "source": [
    "#### Para los interesados\n",
    "La convergencia temporal debiese ser de primer orden, ya que estamos usando Euler. ¿Se acuerdan de Crank-Nicolson en el laboratorio 3? Ese método es de segundo orden. Si hacen la misma derivación que hicimos acá, veran que con modificaciones simples a la matriz y el lado derecho de la ecuación, ¡pueden implementar un esquema de Crank-Nicolson!"
   ]
  }
 ],
 "metadata": {
  "kernelspec": {
   "display_name": "Python 3",
   "language": "python",
   "name": "python3"
  },
  "language_info": {
   "codemirror_mode": {
    "name": "ipython",
    "version": 3
   },
   "file_extension": ".py",
   "mimetype": "text/x-python",
   "name": "python",
   "nbconvert_exporter": "python",
   "pygments_lexer": "ipython3",
   "version": "3.6.1"
  }
 },
 "nbformat": 4,
 "nbformat_minor": 1
}
